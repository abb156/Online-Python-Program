{
 "cells": [
  {
   "cell_type": "code",
   "execution_count": 1,
   "id": "9d42d6f6",
   "metadata": {},
   "outputs": [
    {
     "name": "stdout",
     "output_type": "stream",
     "text": [
      "Twinkle,twinkle,little star,\n",
      "\tHow I wonder what you are!\n",
      "\t\tUp above the world so high,\n",
      "\t\tLike a diamond in the sky.\n",
      "Twinkle,twinkle,little,star,\n",
      "\tHow I wonder what you are.\n"
     ]
    }
   ],
   "source": [
    "print(\"Twinkle,twinkle,little star,\")\n",
    "print(\"\\tHow I wonder what you are!\")\n",
    "print(\"\\t\\tUp above the world so high,\")\n",
    "print(\"\\t\\tLike a diamond in the sky.\")\n",
    "print(\"Twinkle,twinkle,little,star,\")\n",
    "print(\"\\tHow I wonder what you are.\")"
   ]
  },
  {
   "cell_type": "code",
   "execution_count": 2,
   "id": "9eb2ed8f",
   "metadata": {},
   "outputs": [
    {
     "name": "stdout",
     "output_type": "stream",
     "text": [
      "sys.version_info(major=3, minor=9, micro=7, releaselevel='final', serial=0)\n"
     ]
    }
   ],
   "source": [
    "import sys\n",
    "python_version=sys.version_info\n",
    "print(python_version)"
   ]
  },
  {
   "cell_type": "code",
   "execution_count": 3,
   "id": "24fb05bc",
   "metadata": {},
   "outputs": [
    {
     "ename": "AttributeError",
     "evalue": "module 'datetime' has no attribute 'dateime'",
     "output_type": "error",
     "traceback": [
      "\u001b[1;31m---------------------------------------------------------------------------\u001b[0m",
      "\u001b[1;31mAttributeError\u001b[0m                            Traceback (most recent call last)",
      "\u001b[1;32mC:\\Users\\ABDULB~1\\AppData\\Local\\Temp/ipykernel_25428/2948843788.py\u001b[0m in \u001b[0;36m<module>\u001b[1;34m\u001b[0m\n\u001b[0;32m      1\u001b[0m \u001b[1;32mimport\u001b[0m \u001b[0mdatetime\u001b[0m\u001b[1;33m\u001b[0m\u001b[1;33m\u001b[0m\u001b[0m\n\u001b[1;32m----> 2\u001b[1;33m \u001b[0me\u001b[0m\u001b[1;33m=\u001b[0m\u001b[0mdatetime\u001b[0m\u001b[1;33m.\u001b[0m\u001b[0mdateime\u001b[0m\u001b[1;33m.\u001b[0m\u001b[0mnow\u001b[0m\u001b[1;33m(\u001b[0m\u001b[1;33m)\u001b[0m\u001b[1;33m\u001b[0m\u001b[1;33m\u001b[0m\u001b[0m\n\u001b[0m\u001b[0;32m      3\u001b[0m \u001b[0mprint\u001b[0m\u001b[1;33m(\u001b[0m\u001b[1;34m\"Today's date: %s/%s/%s\"\u001b[0m\u001b[1;33m%\u001b[0m\u001b[1;33m(\u001b[0m\u001b[0me\u001b[0m\u001b[1;33m.\u001b[0m\u001b[0mday\u001b[0m\u001b[1;33m,\u001b[0m\u001b[0me\u001b[0m\u001b[1;33m.\u001b[0m\u001b[0mmonth\u001b[0m\u001b[1;33m,\u001b[0m\u001b[0me\u001b[0m\u001b[1;33m.\u001b[0m\u001b[0myear\u001b[0m\u001b[1;33m)\u001b[0m\u001b[1;33m)\u001b[0m\u001b[1;33m\u001b[0m\u001b[1;33m\u001b[0m\u001b[0m\n\u001b[0;32m      4\u001b[0m \u001b[0mprint\u001b[0m\u001b[1;33m(\u001b[0m\u001b[1;34m\"Time is : %s:%s:%s\"\u001b[0m\u001b[1;33m%\u001b[0m\u001b[1;33m(\u001b[0m\u001b[0me\u001b[0m\u001b[1;33m.\u001b[0m\u001b[0mhour\u001b[0m\u001b[1;33m,\u001b[0m\u001b[0me\u001b[0m\u001b[1;33m.\u001b[0m\u001b[0mminute\u001b[0m\u001b[1;33m,\u001b[0m\u001b[0me\u001b[0m\u001b[1;33m.\u001b[0m\u001b[0msecond\u001b[0m\u001b[1;33m)\u001b[0m\u001b[1;33m)\u001b[0m\u001b[1;33m\u001b[0m\u001b[1;33m\u001b[0m\u001b[0m\n",
      "\u001b[1;31mAttributeError\u001b[0m: module 'datetime' has no attribute 'dateime'"
     ]
    }
   ],
   "source": [
    "import datetime\n",
    "e=datetime.dateime.now()\n",
    "print(\"Today's date: %s/%s/%s\"%(e.day,e.month,e.year))\n",
    "print(\"Time is : %s:%s:%s\"%(e.hour,e.minute,e.second))"
   ]
  },
  {
   "cell_type": "code",
   "execution_count": 4,
   "id": "65fe4edc",
   "metadata": {},
   "outputs": [
    {
     "name": "stdout",
     "output_type": "stream",
     "text": [
      "Today's date: 1/1/2022\n",
      "Time is : 11:14:35\n"
     ]
    }
   ],
   "source": [
    "import datetime\n",
    "e=datetime.datetime.now()\n",
    "print(\"Today's date: %s/%s/%s\"%(e.day,e.month,e.year))\n",
    "print(\"Time is : %s:%s:%s\"%(e.hour,e.minute,e.second))"
   ]
  },
  {
   "cell_type": "code",
   "execution_count": 5,
   "id": "b3bf9b11",
   "metadata": {},
   "outputs": [
    {
     "name": "stdout",
     "output_type": "stream",
     "text": [
      "Enter the radius of circle: 3\n",
      "area of the circle is  28.322999999999997\n"
     ]
    }
   ],
   "source": [
    "radius=float(input(\"Enter the radius of circle: \"))\n",
    "area=3.147*(radius*radius)\n",
    "print(\"area of the circle is \",area)"
   ]
  },
  {
   "cell_type": "code",
   "execution_count": 6,
   "id": "8dfbbf1d",
   "metadata": {},
   "outputs": [
    {
     "name": "stdout",
     "output_type": "stream",
     "text": [
      "Enter the first value:4\n",
      "Enter the second value:5\n",
      "The addition of two values 4 + 5 = 9\n"
     ]
    }
   ],
   "source": [
    "value_1=int(input(\"Enter the first value:\"))\n",
    "value_2=int(input(\"Enter the second value:\"))\n",
    "addition=value_1+value_2\n",
    "print(\"The addition of two values %s + %s = %s\"%(value_1,value_2,addition))"
   ]
  },
  {
   "cell_type": "code",
   "execution_count": 7,
   "id": "bd0c9902",
   "metadata": {},
   "outputs": [
    {
     "name": "stdout",
     "output_type": "stream",
     "text": [
      "Enter your full name:\tAbdul Basit\n",
      "original string is %s Abdul Basit\n",
      "reversed string is %s tisaB ludbA\n"
     ]
    }
   ],
   "source": [
    "full_name=input(\"Enter your full name:\\t\")\n",
    "print(\"original string is %s\",full_name)\n",
    "print(\"reversed string is %s\",full_name[::-1])"
   ]
  },
  {
   "cell_type": "code",
   "execution_count": null,
   "id": "21deec61",
   "metadata": {},
   "outputs": [],
   "source": []
  }
 ],
 "metadata": {
  "kernelspec": {
   "display_name": "Python 3 (ipykernel)",
   "language": "python",
   "name": "python3"
  },
  "language_info": {
   "codemirror_mode": {
    "name": "ipython",
    "version": 3
   },
   "file_extension": ".py",
   "mimetype": "text/x-python",
   "name": "python",
   "nbconvert_exporter": "python",
   "pygments_lexer": "ipython3",
   "version": "3.9.7"
  }
 },
 "nbformat": 4,
 "nbformat_minor": 5
}
